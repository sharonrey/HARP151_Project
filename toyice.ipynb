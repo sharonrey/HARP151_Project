{
 "cells": [
  {
   "cell_type": "code",
   "execution_count": 3,
   "metadata": {},
   "outputs": [
    {
     "name": "stdout",
     "output_type": "stream",
     "text": [
      "Token: BQDbWSkPty03BVfNJStJhn8GPaaLqrm6GENzNI10N-XjclNWqKGNwzhrSX3jJT0Y622rfHTSUfqNuI-EC_wyF98LYMwDxs_HLeD88l6LHdqA0pat1EbIrsmWWC7gxy7xPvNy-UpZVTk\n"
     ]
    },
    {
     "data": {
      "text/plain": [
       "{'external_urls': {'spotify': 'https://open.spotify.com/artist/4bmylyV5D4dQjm4LAIitAU'},\n",
       " 'followers': {'href': None, 'total': 169},\n",
       " 'genres': ['deathrock', 'cold wave'],\n",
       " 'href': 'https://api.spotify.com/v1/artists/4bmylyV5D4dQjm4LAIitAU',\n",
       " 'id': '4bmylyV5D4dQjm4LAIitAU',\n",
       " 'images': [{'url': 'https://i.scdn.co/image/ab6761610000e5ebd06c5aa15239d5ed68458d79',\n",
       "   'height': 640,\n",
       "   'width': 640},\n",
       "  {'url': 'https://i.scdn.co/image/ab67616100005174d06c5aa15239d5ed68458d79',\n",
       "   'height': 320,\n",
       "   'width': 320},\n",
       "  {'url': 'https://i.scdn.co/image/ab6761610000f178d06c5aa15239d5ed68458d79',\n",
       "   'height': 160,\n",
       "   'width': 160}],\n",
       " 'name': 'Genre is death',\n",
       " 'popularity': 3,\n",
       " 'type': 'artist',\n",
       " 'uri': 'spotify:artist:4bmylyV5D4dQjm4LAIitAU'}"
      ]
     },
     "execution_count": 3,
     "metadata": {},
     "output_type": "execute_result"
    }
   ],
   "source": [
    "import random\n",
    "import requests\n",
    "from PIL import Image\n",
    "from base64 import b64encode\n",
    "\n",
    "client_id = \"e291792abd4b4a1db646f561c823beb9\"\n",
    "client_secret = \"26e6df1ae3614825940739dd03c31feb\"\n",
    "\n",
    "auth_url = 'https://accounts.spotify.com/api/token'\n",
    "auth_header = 'Basic ' + b64encode((client_id + ':' + client_secret).encode()).decode()\n",
    "\n",
    "auth_data = {\n",
    "    'grant_type': 'client_credentials'\n",
    "}\n",
    "\n",
    "auth_response = requests.post(auth_url, headers={'Authorization': auth_header}, data=auth_data)\n",
    "\n",
    "if auth_response.status_code == 200:\n",
    "    token = auth_response.json().get('access_token')\n",
    "    print('Token:', token)\n",
    "else:\n",
    "    print('Error:', auth_response.status_code)\n",
    "    print(auth_response.text)\n",
    "    \n",
    "headers = {\n",
    "    \"Authorization\": \"Bearer \" + token\n",
    "}\n",
    "\n",
    "'''def get_artistId():\n",
    "    print(get_artists[\"id\"])\n",
    "    \n",
    "def get_artistName():\n",
    "    print(get_artists[\"name\"])'''\n",
    "\n",
    "def get_artists():\n",
    "    genre = input(\"Enter the genre of the songs you want to guess: \")\n",
    "\n",
    "    url = f\"https://api.spotify.com/v1/search?q=genre:{genre}&type=artist\"\n",
    "\n",
    "    response = requests.get(url, headers=headers)\n",
    "    \n",
    "    if response.status_code == 200:\n",
    "        artists = response.json()\n",
    "        try:\n",
    "            rand_artist = random.choice(artists[\"artists\"][\"items\"])\n",
    "            return rand_artist\n",
    "        except IndexError:\n",
    "            print(\"Enter a valid genre!\")\n",
    "            return get_artists()\n",
    "    else:\n",
    "        print(\"Enter a valid genre!\")\n",
    "        return get_artists()\n",
    "    \n",
    "def get_albumName():\n",
    "    while True:\n",
    "        artist = get_artists()\n",
    "        artist_id = artist[\"id\"]\n",
    "    \n",
    "        artist_albums = requests.get(f\"https://api.spotify.com/v1/artists/{artist_id}/albums\", headers=headers).json()\n",
    " \n",
    "        if \"items\" in artist_albums:\n",
    "            rand_album = random.choice(artist_albums[\"items\"])\n",
    "            print(rand_album)\n",
    "            break\n",
    "        \n",
    "get_artists()"
   ]
  }
 ],
 "metadata": {
  "kernelspec": {
   "display_name": "base",
   "language": "python",
   "name": "python3"
  },
  "language_info": {
   "codemirror_mode": {
    "name": "ipython",
    "version": 3
   },
   "file_extension": ".py",
   "mimetype": "text/x-python",
   "name": "python",
   "nbconvert_exporter": "python",
   "pygments_lexer": "ipython3",
   "version": "3.12.4"
  }
 },
 "nbformat": 4,
 "nbformat_minor": 2
}
