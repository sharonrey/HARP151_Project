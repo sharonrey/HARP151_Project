{
 "cells": [
  {
   "cell_type": "code",
   "execution_count": 10,
   "metadata": {},
   "outputs": [],
   "source": [
    "import requests\n",
    "import json\n",
    "from base64 import b64encode"
   ]
  },
  {
   "cell_type": "code",
   "execution_count": 4,
   "metadata": {},
   "outputs": [
    {
     "name": "stdout",
     "output_type": "stream",
     "text": [
      "Token: BQDLS51gIeE-tdAjx3S78yTN_8nus2WYiwXYS_tQE6ktSSIp2A-DaB8pwY-7Gm6iRnXOfkfGM3LmkB6LU-j07Vm3TRvAYmUUgVdAie09YVmUqwqrUtevOQAfvuBkF74RJQGnnECTNbs\n"
     ]
    }
   ],
   "source": [
    "client_id = \"e291792abd4b4a1db646f561c823beb9\"\n",
    "client_secret = \"26e6df1ae3614825940739dd03c31feb\"\n",
    "\n",
    "auth_url = 'https://accounts.spotify.com/api/token'\n",
    "auth_header = 'Basic ' + b64encode((client_id + ':' + client_secret).encode()).decode()\n",
    "url = \"https://api.spotify.com/v1/search\"\n",
    "\n",
    "auth_data = {\n",
    "    'grant_type': 'client_credentials'\n",
    "}\n",
    "\n",
    "auth_response = requests.post(auth_url, headers={'Authorization': auth_header}, data=auth_data)\n",
    "\n",
    "if auth_response.status_code == 200:\n",
    "    token = auth_response.json().get('access_token')\n",
    "    print('Token:', token)\n",
    "else:\n",
    "    print('Error:', auth_response.status_code)\n",
    "    print(auth_response.text)\n",
    "\n",
    "\n",
    "\n"
   ]
  },
  {
   "cell_type": "code",
   "execution_count": 7,
   "metadata": {},
   "outputs": [],
   "source": [
    "token = \"BQDLS51gIeE-tdAjx3S78yTN_8nus2WYiwXYS_tQE6ktSSIp2A-DaB8pwY-7Gm6iRnXOfkfGM3LmkB6LU-j07Vm3TRvAYmUUgVdAie09YVmUqwqrUtevOQAfvuBkF74RJQGnnECTNbs\"\n",
    "\n",
    "#artist_name = \"Taylor Swift\"\n",
    "\n",
    "def get_spotify_id(artist_name):\n",
    "    url = \"https://api.spotify.com/v1/search\"\n",
    "    headers = {\n",
    "        \"Authorization\": f\"Bearer {token}\"\n",
    "    }\n",
    "    params = {\n",
    "        \"q\": artist_name,\n",
    "        \"type\": \"artist\",\n",
    "        \"limit\": 1  \n",
    "    }\n",
    "\n",
    "    response = requests.get(url, headers=headers, params=params)\n",
    "\n",
    "    if response.status_code == 200:\n",
    "        results = response.json()\n",
    "        if results[\"artists\"][\"items\"]:\n",
    "            artist = results[\"artists\"][\"items\"][0]\n",
    "            id = artist[\"id\"]\n",
    "            return id\n",
    "        else:\n",
    "            return \"No artist found.\"\n",
    "    else:\n",
    "        return f\"Error: {response.status_code} - {response.text}\""
   ]
  },
  {
   "cell_type": "code",
   "execution_count": null,
   "metadata": {},
   "outputs": [],
   "source": []
  }
 ],
 "metadata": {
  "kernelspec": {
   "display_name": "base",
   "language": "python",
   "name": "python3"
  },
  "language_info": {
   "codemirror_mode": {
    "name": "ipython",
    "version": 3
   },
   "file_extension": ".py",
   "mimetype": "text/x-python",
   "name": "python",
   "nbconvert_exporter": "python",
   "pygments_lexer": "ipython3",
   "version": "3.12.4"
  }
 },
 "nbformat": 4,
 "nbformat_minor": 2
}
