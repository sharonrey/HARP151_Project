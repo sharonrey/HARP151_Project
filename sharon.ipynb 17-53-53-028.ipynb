{
 "cells": [
  {
   "cell_type": "code",
   "execution_count": 10,
   "metadata": {},
   "outputs": [],
   "source": [
    "import requests\n",
    "import json\n",
    "from base64 import b64encode\n",
    "import tkinter as tk\n",
    "import random\n",
    "from bs4 import BeautifulSoup"
   ]
  },
  {
   "cell_type": "code",
   "execution_count": 2,
   "metadata": {},
   "outputs": [
    {
     "ename": "NameError",
     "evalue": "name 'b64encode' is not defined",
     "output_type": "error",
     "traceback": [
      "\u001b[0;31m---------------------------------------------------------------------------\u001b[0m",
      "\u001b[0;31mNameError\u001b[0m                                 Traceback (most recent call last)",
      "Cell \u001b[0;32mIn[2], line 5\u001b[0m\n\u001b[1;32m      2\u001b[0m client_secret \u001b[38;5;241m=\u001b[39m \u001b[38;5;124m\"\u001b[39m\u001b[38;5;124m26e6df1ae3614825940739dd03c31feb\u001b[39m\u001b[38;5;124m\"\u001b[39m\n\u001b[1;32m      4\u001b[0m auth_url \u001b[38;5;241m=\u001b[39m \u001b[38;5;124m'\u001b[39m\u001b[38;5;124mhttps://accounts.spotify.com/api/token\u001b[39m\u001b[38;5;124m'\u001b[39m\n\u001b[0;32m----> 5\u001b[0m auth_header \u001b[38;5;241m=\u001b[39m \u001b[38;5;124m'\u001b[39m\u001b[38;5;124mBasic \u001b[39m\u001b[38;5;124m'\u001b[39m \u001b[38;5;241m+\u001b[39m \u001b[43mb64encode\u001b[49m((client_id \u001b[38;5;241m+\u001b[39m \u001b[38;5;124m'\u001b[39m\u001b[38;5;124m:\u001b[39m\u001b[38;5;124m'\u001b[39m \u001b[38;5;241m+\u001b[39m client_secret)\u001b[38;5;241m.\u001b[39mencode())\u001b[38;5;241m.\u001b[39mdecode()\n\u001b[1;32m      6\u001b[0m url \u001b[38;5;241m=\u001b[39m \u001b[38;5;124m\"\u001b[39m\u001b[38;5;124mhttps://api.spotify.com/v1/search\u001b[39m\u001b[38;5;124m\"\u001b[39m\n\u001b[1;32m      8\u001b[0m auth_data \u001b[38;5;241m=\u001b[39m {\n\u001b[1;32m      9\u001b[0m     \u001b[38;5;124m'\u001b[39m\u001b[38;5;124mgrant_type\u001b[39m\u001b[38;5;124m'\u001b[39m: \u001b[38;5;124m'\u001b[39m\u001b[38;5;124mclient_credentials\u001b[39m\u001b[38;5;124m'\u001b[39m\n\u001b[1;32m     10\u001b[0m }\n",
      "\u001b[0;31mNameError\u001b[0m: name 'b64encode' is not defined"
     ]
    }
   ],
   "source": [
    "client_id = \"e291792abd4b4a1db646f561c823beb9\"\n",
    "client_secret = \"26e6df1ae3614825940739dd03c31feb\"\n",
    "\n",
    "auth_url = 'https://accounts.spotify.com/api/token'\n",
    "auth_header = 'Basic ' + b64encode((client_id + ':' + client_secret).encode()).decode()\n",
    "url = \"https://api.spotify.com/v1/search\"\n",
    "\n",
    "auth_data = {\n",
    "    'grant_type': 'client_credentials'\n",
    "}\n",
    "\n",
    "auth_response = requests.post(auth_url, headers={'Authorization': auth_header}, data=auth_data)\n",
    "\n",
    "if auth_response.status_code == 200:\n",
    "    token = auth_response.json().get('access_token')\n",
    "    print('Token:', token)\n",
    "else:\n",
    "    print('Error:', auth_response.status_code)\n",
    "    print(auth_response.text)\n",
    "\n",
    "\n",
    "\n"
   ]
  },
  {
   "cell_type": "code",
   "execution_count": 1,
   "metadata": {},
   "outputs": [],
   "source": [
    "token = \"BQDLS51gIeE-tdAjx3S78yTN_8nus2WYiwXYS_tQE6ktSSIp2A-DaB8pwY-7Gm6iRnXOfkfGM3LmkB6LU-j07Vm3TRvAYmUUgVdAie09YVmUqwqrUtevOQAfvuBkF74RJQGnnECTNbs\"\n",
    "\n",
    "#artist_name = \"Taylor Swift\"\n",
    "\n",
    "def get_spotify_id(artist_name):\n",
    "    url = \"https://api.spotify.com/v1/search\"\n",
    "    headers = {\n",
    "        \"Authorization\": f\"Bearer {token}\"\n",
    "    }\n",
    "    params = {\n",
    "        \"q\": artist_name,\n",
    "        \"type\": \"artist\",\n",
    "        \"limit\": 1  \n",
    "    }\n",
    "\n",
    "    response = requests.get(url, headers=headers, params=params)\n",
    "\n",
    "    if response.status_code == 200:\n",
    "        results = response.json()\n",
    "        if results[\"artists\"][\"items\"]:\n",
    "            artist = results[\"artists\"][\"items\"][0]\n",
    "            id = artist[\"id\"]\n",
    "            return id\n",
    "        else:\n",
    "            return \"No artist found.\"\n",
    "    else:\n",
    "        return f\"Error: {response.status_code} - {response.text}\""
   ]
  },
  {
   "cell_type": "code",
   "execution_count": 11,
   "metadata": {},
   "outputs": [],
   "source": [
    "API_KEY = \"OdOTpaxGkQyamSaW2EkeanimV3vOKKdmyBTwQHGHxErCN97F3c1Z4kVR8UJWgM85\"\n",
    "HEADERS = {\"Authorization\": f\"Bearer {API_KEY}\"}\n",
    "\n",
    "def get_lyrics(artist):\n",
    "    response = requests.get(\"https://api.genius.com/search\", headers=HEADERS, params={\"q\": artist})\n",
    "    data = response.json()\n",
    "\n",
    "    if not data[\"response\"][\"hits\"]:\n",
    "        print(\"No songs found.\\n\")\n",
    "        return []\n",
    "    else:\n",
    "        song = random.choice(data[\"response\"][\"hits\"])[\"result\"]\n",
    "        \n",
    "        title = song[\"title\"]\n",
    "        \n",
    "        hint = song[\"title\"][0]\n",
    "\n",
    "        page = requests.get(song[\"url\"])\n",
    "        soup = BeautifulSoup(page.text, \"html.parser\")\n",
    "\n",
    "        lyrics_divs = soup.find_all(\"div\", class_=lambda x: x and \"Lyrics__Container\" in x)\n",
    "\n",
    "        full_lyrics = \"\"\n",
    "        \n",
    "        for i in lyrics_divs:\n",
    "            full_lyrics += i.text.strip()\n",
    "\n",
    "        words = full_lyrics.split() \n",
    "\n",
    "        if len(words) >= 10:\n",
    "            stop = random.randint(10, len(words))\n",
    "            start = stop - 10\n",
    "            consecutive_words = words[start:stop]\n",
    "            song_lst = [title, \" \".join(consecutive_words), hint]\n",
    "            return song_lst\n",
    "                \n",
    "        else:\n",
    "            print(\"Not enough words in the lyrics.\\n\")\n",
    "            return []\n",
    "\n",
    "def q2():\n",
    "\n",
    "    score = 0\n",
    "\n",
    "    #question 1\n",
    "    response_2 = input(\"Enter an artist's name: \")\n",
    "    question_1 = get_lyrics(response_2)\n",
    "\n",
    "    response_3 = input(f\"Enter the song title for the following lyrics: {question_1[1]}\\n\")\n",
    "    if response_3.lower() == question_1[0].lower():\n",
    "        score += 10\n",
    "        print(f\"\\nCorrect! Your score is {score}/30.\\n\")\n",
    "    else:\n",
    "        print(f\"\\nIncorrect. The correct answer was {question_1[0]}. Your current score is {score}/30\\n\")\n",
    "\n",
    "    #question 2\n",
    "    question_2 = get_lyrics(response_2)\n",
    "    response_5 = input(f\"Enter the song title for the following lyrics: {question_2[1]}\\n\")\n",
    "    if response_5.lower() == question_2[0].lower():\n",
    "        score += 10\n",
    "        print(f\"\\nCorrect! Your score is {score}/30.\\n\")\n",
    "    else:\n",
    "        print(f\"\\nIncorrect. The correct answer was {question_2[0]}. Your current score is {score}/30\\n\")\n",
    "\n",
    "    #question 3\n",
    "    question_3 = get_lyrics(response_2)\n",
    "    response_7 = input(f\"Enter the song title for the following lyrics: {question_3[1]}\\n\")\n",
    "    if response_7.lower() == question_3[0].lower():\n",
    "        score += 10\n",
    "        print(f\"\\nCorrect! Your score is {score}/30.\\n\")\n",
    "    else:\n",
    "        print(f\"\\nIncorrect. The correct answer was {question_3[0]}. Your current score is {score}/30\\n\")\n",
    "\n",
    "    return f\"Your score is {score}/30.\""
   ]
  },
  {
   "cell_type": "code",
   "execution_count": 12,
   "metadata": {},
   "outputs": [
    {
     "name": "stdout",
     "output_type": "stream",
     "text": [
      "\n",
      "Correct! Your score is 10/30.\n",
      "\n",
      "\n",
      "Correct! Your score is 20/30.\n",
      "\n",
      "\n",
      "Incorrect. The correct answer was All Too Well (10 Minute Version) (Taylor’s Version) [Live Acoustic]. Your current score is 20/30\n",
      "\n"
     ]
    },
    {
     "data": {
      "text/plain": [
       "'Your score is 20/30.'"
      ]
     },
     "execution_count": 12,
     "metadata": {},
     "output_type": "execute_result"
    }
   ],
   "source": [
    "q2()"
   ]
  },
  {
   "cell_type": "code",
   "execution_count": 13,
   "metadata": {},
   "outputs": [],
   "source": [
    "#root = tk.Tk()\n",
    "#root.geometry(\"500x500\")\n",
    "\n",
    "#root.mainloop()"
   ]
  },
  {
   "cell_type": "code",
   "execution_count": null,
   "metadata": {},
   "outputs": [],
   "source": []
  }
 ],
 "metadata": {
  "kernelspec": {
   "display_name": "Python 3",
   "language": "python",
   "name": "python3"
  },
  "language_info": {
   "codemirror_mode": {
    "name": "ipython",
    "version": 3
   },
   "file_extension": ".py",
   "mimetype": "text/x-python",
   "name": "python",
   "nbconvert_exporter": "python",
   "pygments_lexer": "ipython3",
   "version": "3.9.10"
  }
 },
 "nbformat": 4,
 "nbformat_minor": 2
}
