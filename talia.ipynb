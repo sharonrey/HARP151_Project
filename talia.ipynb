{
 "cells": [
  {
   "cell_type": "code",
   "execution_count": null,
   "metadata": {},
   "outputs": [],
   "source": [
    "import requests\n",
    "from base64 import b64encode\n",
    "\n",
    "client_id = \"2605d59a5453492f8464f3e9c8f985f7\"\n",
    "client_secret = \"ad5e69598ac84ab3b0784016593ad2f1\"\n",
    "\n",
    "auth_url = 'api.genius.com/songs/378195'\n",
    "auth_header = 'Basic ' + b64encode((client_id + ':' + client_secret).encode()).decode()\n",
    "\n",
    "auth_data = {\n",
    "    'grant_type': 'client_credentials'\n",
    "}\n",
    "\n",
    "#we are POSTING something to the server in order to RETURN the token\n",
    "auth_response = requests.post(auth_url, headers={'Authorization': auth_header}, data=auth_data)\n",
    "\n",
    "if auth_response.status_code == 200:\n",
    "    token = auth_response.json().get('access_token')\n",
    "    print('Token:', token)\n",
    "else:\n",
    "    print('Error:', auth_response.status_code)\n",
    "    print(auth_response.text)\n"
   ]
  },
  {
   "cell_type": "code",
   "execution_count": null,
   "metadata": {},
   "outputs": [],
   "source": [
    "api_key = \"h6XCQbwQOfFHw0q7s6wHkK0H1tKmkSEKAZxYKiNCHj88HXYpYrVOzjPvS2gPlSXQ\"\n",
    "date = input(\"what date do you choose: \")\n",
    "\n",
    "nasa_data = requests.get(f\"https://api.nasa.gov/planetary/apod?api_key={api_key}&date={date}\")\n",
    "json_file = nasa_data.json()\n",
    "\n",
    "json_file"
   ]
  }
 ],
 "metadata": {
  "kernelspec": {
   "display_name": "Python 3",
   "language": "python",
   "name": "python3"
  },
  "language_info": {
   "name": "python",
   "version": "3.9.10"
  }
 },
 "nbformat": 4,
 "nbformat_minor": 2
}
