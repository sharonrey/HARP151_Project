{
 "cells": [
  {
   "cell_type": "markdown",
   "metadata": {},
   "source": [
    "Just made a rough outline for now since some of the actual code needs updating, let me know if I can help and when you code is fixed so that I can finish this up :)"
   ]
  },
  {
   "cell_type": "code",
   "execution_count": 1,
   "metadata": {},
   "outputs": [],
   "source": [
    "import random\n",
    "import requests\n",
    "from PIL import Image\n",
    "from base64 import b64encode\n",
    "from bs4 import BeautifulSoup"
   ]
  },
  {
   "cell_type": "code",
   "execution_count": 2,
   "metadata": {},
   "outputs": [
    {
     "name": "stdout",
     "output_type": "stream",
     "text": [
      "Token: BQAEjdX3_sAEqiKIuexZLoDtXN3yqIjS_piCzPAL1glnoqctJR1MvRhCzsYuRc4ZYTdSQhDUcVZg8-lO1KQPnB6bqHkRss8J9aq1Vgb6o6Ih-hell8x3ZCM8JUVQp4pqT2WyOmAjl9c\n"
     ]
    }
   ],
   "source": [
    "#copied from toyice's work\n",
    "\n",
    "client_id = \"e291792abd4b4a1db646f561c823beb9\"\n",
    "client_secret = \"26e6df1ae3614825940739dd03c31feb\"\n",
    "\n",
    "auth_url = 'https://accounts.spotify.com/api/token'\n",
    "auth_header = 'Basic ' + b64encode((client_id + ':' + client_secret).encode()).decode()\n",
    "\n",
    "auth_data = {\n",
    "    'grant_type': 'client_credentials'\n",
    "}\n",
    "\n",
    "auth_response = requests.post(auth_url, headers={'Authorization': auth_header}, data=auth_data)\n",
    "\n",
    "if auth_response.status_code == 200:\n",
    "    token = auth_response.json().get('access_token')\n",
    "    print('Token:', token)\n",
    "else:\n",
    "    print('Error:', auth_response.status_code)\n",
    "    print(auth_response.text)\n",
    "    \n",
    "headers = {\n",
    "    \"Authorization\": \"Bearer \" + token\n",
    "}\n",
    "\n",
    "'''def get_artistId():\n",
    "    print(get_artists[\"id\"])\n",
    "    \n",
    "def get_artistName():\n",
    "    print(get_artists[\"name\"])'''\n",
    "\n",
    "def get_artists():\n",
    "    genre = input(\"Enter the genre of the songs you want to guess: \")\n",
    "\n",
    "    url = f\"https://api.spotify.com/v1/search?q=genre:{genre}&type=artist\"\n",
    "\n",
    "    response = requests.get(url, headers=headers)\n",
    "    \n",
    "    if response.status_code == 200:\n",
    "        artists = response.json()\n",
    "        try:\n",
    "            rand_artist = random.choice(artists[\"artists\"][\"items\"])\n",
    "            return rand_artist\n",
    "        except IndexError:\n",
    "            print(\"Enter a valid genre!\")\n",
    "            return get_artists()\n",
    "    else:\n",
    "        print(\"Enter a valid genre!\")\n",
    "        return get_artists()\n",
    "    \n",
    "def get_albumName():\n",
    "    while True:\n",
    "        artist = get_artists()\n",
    "        artist_id = artist[\"id\"]\n",
    "    \n",
    "        artist_albums = requests.get(f\"https://api.spotify.com/v1/artists/{artist_id}/albums\", headers=headers).json()\n",
    " \n",
    "        if \"items\" in artist_albums:\n",
    "            rand_album = random.choice(artist_albums[\"items\"])\n",
    "            print(rand_album)\n",
    "            break"
   ]
  },
  {
   "cell_type": "code",
   "execution_count": 7,
   "metadata": {},
   "outputs": [],
   "source": [
    "#copied from talia's work\n",
    "\n",
    "key = \"OdOTpaxGkQyamSaW2EkeanimV3vOKKdmyBTwQHGHxErCN97F3c1Z4kVR8UJWgM85\"\n",
    "headers = {\"Authorization\": f\"Bearer {key}\"}\n",
    "\n",
    "genius_data = requests.get(f\"https://api.genius.com/songs/378195\", headers=headers)\n",
    "json_file = genius_data.json()\n",
    "\n",
    "API_KEY = \"OdOTpaxGkQyamSaW2EkeanimV3vOKKdmyBTwQHGHxErCN97F3c1Z4kVR8UJWgM85\"\n",
    "HEADERS = {\"Authorization\": f\"Bearer {API_KEY}\"}\n",
    "\n",
    "def get_lyrics():\n",
    "    artist = input(\"Enter an artist's name: \")\n",
    "\n",
    "    response = requests.get(\"https://api.genius.com/search\", headers=HEADERS, params={\"q\": artist})\n",
    "    data = response.json()\n",
    "\n",
    "    if not data[\"response\"][\"hits\"]:\n",
    "        print(\"No songs found.\")\n",
    "    else:\n",
    "        song = random.choice(data[\"response\"][\"hits\"])[\"result\"]\n",
    "        print(\"Song:\", song[\"title\"])\n",
    "        print(\"Link to song:\", song[\"url\"])\n",
    "\n",
    "        page = requests.get(song[\"url\"])\n",
    "        soup = BeautifulSoup(page.text, \"html.parser\")\n",
    "\n",
    "        lyrics_divs = soup.find_all(\"div\", class_=\"Lyrics__Container-sc-e3d9a1f6-1 jnkcum\")\n",
    "\n",
    "        if lyrics_divs:\n",
    "            full_lyrics = random.choice(lyrics_divs).text.strip()\n",
    "            words = full_lyrics.split()\n",
    "\n",
    "            if len(words) >= 10:\n",
    "                random_words = random.sample(words, 10)\n",
    "                return \"\\n Random 10 Words:\", \" \".join(random_words)\n",
    "            else:\n",
    "                print(\"Not enough words in the lyrics.\")\n",
    "        else:\n",
    "            print(\"Couldn't get lyrics.\")"
   ]
  },
  {
   "cell_type": "code",
   "execution_count": 9,
   "metadata": {},
   "outputs": [
    {
     "name": "stdout",
     "output_type": "stream",
     "text": [
      "Welcome to our spotify guessing game! You can guess artists in a certain genre, guess the song lyrics from a certain artist, or guess an album title from its cover.\n"
     ]
    },
    {
     "data": {
      "text/plain": [
       "'a'"
      ]
     },
     "execution_count": 9,
     "metadata": {},
     "output_type": "execute_result"
    }
   ],
   "source": [
    "def main():\n",
    "    print(\"Welcome to our spotify guessing game! You can guess artists in a certain genre, guess the song lyrics from a certain artist, or guess an album title from its cover.\")\n",
    "    response_1 = \"\"\n",
    "    while True:\n",
    "        response_1 = input(\"What would you like to do? Enter A to guess an artist, enter B to guess a song title based on lyrics, or enter C to guess an album title from its cover.\")\n",
    "        if response_1.lower() == \"a\":\n",
    "            #get_artists()\n",
    "            return \"a\" #placeholder, will update later\n",
    "        elif response_1.lower() == \"b\":\n",
    "            #get lyrics\n",
    "            return \"b\" #placeholder, will update later\n",
    "        elif response_1.lower() == \"c\":\n",
    "            return \"c\" #placeholder, will update later\n",
    "        else:\n",
    "            print(response_1)\n",
    "\n",
    "main()"
   ]
  },
  {
   "cell_type": "code",
   "execution_count": null,
   "metadata": {},
   "outputs": [],
   "source": []
  }
 ],
 "metadata": {
  "kernelspec": {
   "display_name": "base",
   "language": "python",
   "name": "python3"
  },
  "language_info": {
   "codemirror_mode": {
    "name": "ipython",
    "version": 3
   },
   "file_extension": ".py",
   "mimetype": "text/x-python",
   "name": "python",
   "nbconvert_exporter": "python",
   "pygments_lexer": "ipython3",
   "version": "3.12.4"
  }
 },
 "nbformat": 4,
 "nbformat_minor": 2
}
